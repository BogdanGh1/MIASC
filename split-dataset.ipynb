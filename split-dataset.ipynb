{
 "cells": [
  {
   "cell_type": "code",
   "execution_count": 1,
   "metadata": {},
   "outputs": [],
   "source": [
    "from pathlib import Path"
   ]
  },
  {
   "cell_type": "code",
   "execution_count": 15,
   "metadata": {},
   "outputs": [],
   "source": [
    "original_data_path = Path(\"original_data\")\n",
    "data_path = Path(\"data\")"
   ]
  },
  {
   "cell_type": "code",
   "execution_count": 13,
   "metadata": {},
   "outputs": [
    {
     "data": {
      "text/plain": [
       "16022"
      ]
     },
     "execution_count": 13,
     "metadata": {},
     "output_type": "execute_result"
    }
   ],
   "source": [
    "len(list(original_data_path.rglob(\"*\")))"
   ]
  },
  {
   "cell_type": "code",
   "execution_count": 16,
   "metadata": {},
   "outputs": [
    {
     "data": {
      "text/plain": [
       "16045"
      ]
     },
     "execution_count": 16,
     "metadata": {},
     "output_type": "execute_result"
    }
   ],
   "source": [
    "len(list(data_path.rglob(\"*\")))"
   ]
  },
  {
   "cell_type": "code",
   "execution_count": 9,
   "metadata": {},
   "outputs": [],
   "source": [
    "import os\n",
    "import shutil\n",
    "import numpy as np\n",
    "\n",
    "def split_data(source_folder, destination_folder, train_ratio=0.7, valid_ratio=0.15, test_ratio=0.15):\n",
    "    categories = os.listdir(source_folder)\n",
    "    \n",
    "    # Ensure the ratios sum up to 1\n",
    "    assert train_ratio + valid_ratio + test_ratio == 1, \"Ratios must sum up to 1\"\n",
    "    \n",
    "    for category in categories:\n",
    "        category_path = os.path.join(source_folder, category)\n",
    "        images = os.listdir(category_path)\n",
    "        \n",
    "        # Shuffle images for randomness\n",
    "        np.random.shuffle(images)\n",
    "        \n",
    "        train_end = int(len(images) * train_ratio)\n",
    "        valid_end = train_end + int(len(images) * valid_ratio)\n",
    "        \n",
    "        for folder_name, end_idx in zip(['train', 'valid', 'test'], [train_end, valid_end, len(images)]):\n",
    "            dest_path = os.path.join(destination_folder, folder_name, category)\n",
    "            \n",
    "            if not os.path.exists(dest_path):\n",
    "                os.makedirs(dest_path)\n",
    "            \n",
    "            if folder_name == 'train':\n",
    "                selected_images = images[:end_idx]\n",
    "            elif folder_name == 'valid':\n",
    "                selected_images = images[train_end:end_idx]\n",
    "            else:\n",
    "                selected_images = images[valid_end:]\n",
    "            \n",
    "            # Copy each image\n",
    "            for img in selected_images:\n",
    "                shutil.copy2(os.path.join(category_path, img), dest_path)"
   ]
  },
  {
   "cell_type": "code",
   "execution_count": 11,
   "metadata": {},
   "outputs": [],
   "source": [
    "source_folder = 'original_data'\n",
    "destination_folder = 'data'\n",
    "split_data(source_folder, destination_folder)\n"
   ]
  }
 ],
 "metadata": {
  "kernelspec": {
   "display_name": "leaf-disease-detection-qrv1xVUs-py3.11",
   "language": "python",
   "name": "python3"
  },
  "language_info": {
   "codemirror_mode": {
    "name": "ipython",
    "version": 3
   },
   "file_extension": ".py",
   "mimetype": "text/x-python",
   "name": "python",
   "nbconvert_exporter": "python",
   "pygments_lexer": "ipython3",
   "version": "3.11.0"
  }
 },
 "nbformat": 4,
 "nbformat_minor": 2
}
